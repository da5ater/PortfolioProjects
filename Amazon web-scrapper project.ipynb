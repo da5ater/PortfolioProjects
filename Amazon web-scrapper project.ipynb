{
 "cells": [
  {
   "cell_type": "code",
   "execution_count": 1,
   "id": "d1b9a404",
   "metadata": {},
   "outputs": [],
   "source": [
    "# import libraries\n",
    "\n",
    "from bs4 import BeautifulSoup\n",
    "import requests\n",
    "import time\n",
    "import datetime\n",
    "import smtplib\n",
    "import pandas as pd\n",
    "import csv\n"
   ]
  },
  {
   "cell_type": "code",
   "execution_count": 3,
   "id": "4bbbe767",
   "metadata": {},
   "outputs": [
    {
     "name": "stdout",
     "output_type": "stream",
     "text": [
      "\n",
      "             GTRACING Gaming Chair with Footrest Speakers Video Game Chair Bluetooth Music Heavy Duty Ergonomic Computer Office Desk Chair Red\n",
      "            \n",
      "\n",
      "                      $159.99\n",
      "                     \n"
     ]
    }
   ],
   "source": [
    "# connect to website\n",
    "\n",
    "\n",
    "\n",
    "URL = 'https://www.amazon.com/GTRACING-Footrest-Bluetooth-Chair%E3%80%90Patented-Ergonomic/dp/B07QGY4VGK/ref=sr_1_1_sspa?_encoding=UTF8&content-id=amzn1.sym.12129333-2117-4490-9c17-6d31baf0582a&keywords=gaming%2Bchairs&pd_rd_r=a613edb2-a2dc-421a-949d-bdf7f43bb7ff&pd_rd_w=x3rNW&pd_rd_wg=ErIxw&pf_rd_p=12129333-2117-4490-9c17-6d31baf0582a&pf_rd_r=VEXX8SN7YVR8H37Q5R93&qid=1695669609&sr=8-1-spons&sp_csd=d2lkZ2V0TmFtZT1zcF9hdGY&th=1'\n",
    "\n",
    "headers = {\"User-Agent\": \"Mozilla/5.0 (Windows NT 10.0; Win64; x64) AppleWebKit/537.36 (KHTML, like Gecko) Chrome/116.0.0.0 Safari/537.36\", \"Accept-Encoding\":\"gzip, deflate\", \"Accept\":\"text/html,application/xhtml+xml,application/xml;q=0.9,*/*;q=0.8\", \"DNT\":\"1\",\"Connection\":\"close\", \"Upgrade-Insecure-Requests\":\"1\"}\n",
    "\n",
    "page = requests.get(URL, headers=headers)\n",
    "\n",
    "soup1 = BeautifulSoup(page.content, \"html.parser\")\n",
    "\n",
    "soup2 = BeautifulSoup(soup1.prettify(), \"html.parser\")\n",
    "\n",
    "try:\n",
    "  title = soup2.find(id='productTitle').get_text()\n",
    "  price = soup2.find(id='price_inside_buybox').get_text()\n",
    "except AttributeError:\n",
    "  title = None\n",
    "  price = None\n",
    "\n",
    "print(title)\n",
    "print(price)\n",
    "\n"
   ]
  },
  {
   "cell_type": "code",
   "execution_count": 4,
   "id": "dfd92ad4",
   "metadata": {},
   "outputs": [
    {
     "name": "stdout",
     "output_type": "stream",
     "text": [
      "GTRACING Gaming Chair with Footrest Speakers Video Game Chair Bluetooth Music Heavy Duty Ergonomic Computer Office Desk Chair Red\n",
      "159.99\n"
     ]
    }
   ],
   "source": [
    "# cleansing the data\n",
    "\n",
    "title = title.strip()\n",
    "price = price.strip()[1:]\n",
    "\n",
    "print(title)\n",
    "print(price)"
   ]
  },
  {
   "cell_type": "code",
   "execution_count": 5,
   "id": "3bc791b4",
   "metadata": {},
   "outputs": [
    {
     "name": "stdout",
     "output_type": "stream",
     "text": [
      "2023-09-26\n"
     ]
    }
   ],
   "source": [
    "# create a timestamp to track when the data are collected\n",
    "\n",
    "date = datetime.date.today()\n",
    "print(date)"
   ]
  },
  {
   "cell_type": "code",
   "execution_count": 6,
   "id": "6abe73ad",
   "metadata": {},
   "outputs": [],
   "source": [
    "# Create CSV and write headers and data into the file\n",
    "\n",
    "import csv\n",
    "\n",
    "header =['Title','Price','Date']\n",
    "data =[title ,price , date]\n",
    "\n",
    "with open('Scrapping.csv', 'w', newline='', encoding='UTF8' ) as w:\n",
    "    writer = csv.writer(w)\n",
    "    writer.writerow(header)\n",
    "    writer.writerow(data)\n",
    "\n",
    "\n",
    "\n",
    "\n"
   ]
  },
  {
   "cell_type": "code",
   "execution_count": 13,
   "id": "6eacfb94",
   "metadata": {},
   "outputs": [
    {
     "name": "stdout",
     "output_type": "stream",
     "text": [
      "                                               Title   Price        Date\n",
      "0  GTRACING Gaming Chair with Footrest Speakers V...  159.99  2023-09-26\n",
      "1  GTRACING Gaming Chair with Footrest Speakers V...  159.99  2023-09-26\n"
     ]
    }
   ],
   "source": [
    "# reading the csv file we created\n",
    "\n",
    "df =pd.read_csv(r\"C:\\Users\\vince\\Scrapping.csv\")\n",
    "print(df)"
   ]
  },
  {
   "cell_type": "code",
   "execution_count": 8,
   "id": "493fe5f7",
   "metadata": {},
   "outputs": [],
   "source": [
    "# appending data to the csv\n",
    "\n",
    "with open('Scrapping.csv', 'a+', newline='', encoding='UTF8' ) as w:\n",
    "    writer = csv.writer(w)\n",
    "    writer.writerow(data)"
   ]
  },
  {
   "cell_type": "code",
   "execution_count": 11,
   "id": "28b7ce9e",
   "metadata": {},
   "outputs": [],
   "source": [
    "# create a function that combine all of the code we wrote\n",
    "\n",
    "def check_price():\n",
    "\n",
    "    URL = 'https://www.amazon.com/GTRACING-Footrest-Bluetooth-Chair%E3%80%90Patented-Ergonomic/dp/B07QGY4VGK/ref=sr_1_1_sspa?_encoding=UTF8&content-id=amzn1.sym.12129333-2117-4490-9c17-6d31baf0582a&keywords=gaming%2Bchairs&pd_rd_r=a613edb2-a2dc-421a-949d-bdf7f43bb7ff&pd_rd_w=x3rNW&pd_rd_wg=ErIxw&pf_rd_p=12129333-2117-4490-9c17-6d31baf0582a&pf_rd_r=VEXX8SN7YVR8H37Q5R93&qid=1695669609&sr=8-1-spons&sp_csd=d2lkZ2V0TmFtZT1zcF9hdGY&th=1'\n",
    "\n",
    "    headers = {\"User-Agent\": \"Mozilla/5.0 (Windows NT 10.0; Win64; x64) AppleWebKit/537.36 (KHTML, like Gecko) Chrome/116.0.0.0 Safari/537.36\", \"Accept-Encoding\":\"gzip, deflate\", \"Accept\":\"text/html,application/xhtml+xml,application/xml;q=0.9,*/*;q=0.8\", \"DNT\":\"1\",\"Connection\":\"close\", \"Upgrade-Insecure-Requests\":\"1\"}\n",
    "\n",
    "    page = requests.get(URL, headers=headers)\n",
    "\n",
    "    soup1 = BeautifulSoup(page.content, \"html.parser\")\n",
    "\n",
    "    soup2 = BeautifulSoup(soup1.prettify(), \"html.parser\")\n",
    "\n",
    "    try:\n",
    "      title = soup2.find(id='productTitle').get_text()\n",
    "      price = soup2.find(id='price_inside_buybox').get_text()\n",
    "    except AttributeError:\n",
    "      title = None\n",
    "      price = None\n",
    "        \n",
    "    title = title.strip()\n",
    "    price = price.strip()[1:]\n",
    "    \n",
    "    date = datetime.date.today()\n",
    "\n",
    "    header =['Title','Price','Date']\n",
    "    data =[title ,price , date]\n",
    "\n",
    "    with open('Scrapping.csv', 'a+', newline='', encoding='UTF8' ) as w:\n",
    "        writer = csv.writer(w)\n",
    "        writer.writerow(data)\n",
    "        \n",
    "    "
   ]
  },
  {
   "cell_type": "code",
   "execution_count": null,
   "id": "445125d6",
   "metadata": {},
   "outputs": [],
   "source": [
    "# Runs check_price after a set time and inputs data into your CSV\n",
    "\n",
    "while(True):\n",
    "    check_price()\n",
    "    time.sleep(86400)"
   ]
  },
  {
   "cell_type": "code",
   "execution_count": null,
   "id": "99098982",
   "metadata": {},
   "outputs": [],
   "source": [
    "# reading the csv file we created\n",
    "\n",
    "df =pd.read_csv(r\"C:\\Users\\vince\\Scrapping.csv\")\n",
    "print(df)"
   ]
  },
  {
   "cell_type": "code",
   "execution_count": null,
   "id": "d841a142",
   "metadata": {},
   "outputs": [],
   "source": []
  }
 ],
 "metadata": {
  "kernelspec": {
   "display_name": "Python 3 (ipykernel)",
   "language": "python",
   "name": "python3"
  },
  "language_info": {
   "codemirror_mode": {
    "name": "ipython",
    "version": 3
   },
   "file_extension": ".py",
   "mimetype": "text/x-python",
   "name": "python",
   "nbconvert_exporter": "python",
   "pygments_lexer": "ipython3",
   "version": "3.11.4"
  }
 },
 "nbformat": 4,
 "nbformat_minor": 5
}
